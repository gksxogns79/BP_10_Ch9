{
  "cells": [
    {
      "cell_type": "markdown",
      "metadata": {
        "id": "view-in-github",
        "colab_type": "text"
      },
      "source": [
        "<a href=\"https://colab.research.google.com/github/gksxogns79/BP_10_Ch9/blob/main/%20BP_10_EX_Ch9.ipynb\" target=\"_parent\"><img src=\"https://colab.research.google.com/assets/colab-badge.svg\" alt=\"Open In Colab\"/></a>"
      ]
    },
    {
      "cell_type": "code",
      "source": [
        "alist = []\n",
        "sum = 0\n",
        "for i in range(5):\n",
        " i = int(input(\"정수를 입력하시오: \"))\n",
        " alist.append(i)\n",
        "for i in alist:\n",
        " sum += i\n",
        "avg = sum/len(alist)\n",
        "print(\"평균=\", avg)"
      ],
      "metadata": {
        "id": "S0qK6zzE-5DD",
        "outputId": "d89e32cc-72b6-4839-bd2b-792d0dcc16f5",
        "colab": {
          "base_uri": "https://localhost:8080/"
        }
      },
      "execution_count": 5,
      "outputs": [
        {
          "output_type": "stream",
          "name": "stdout",
          "text": [
            "정수를 입력하시오: 10\n",
            "정수를 입력하시오: 20\n",
            "정수를 입력하시오: 30\n",
            "정수를 입력하시오: 40\n",
            "정수를 입력하시오: 50\n",
            "평균= 30.0\n"
          ]
        }
      ]
    },
    {
      "cell_type": "code",
      "source": [
        "import random\n",
        "counters = [0, 0, 0, 0, 0, 0]\n",
        "for i in range(1000):\n",
        " value = random.randint(0, 5)\n",
        " counters[value] = counters[value] + 1\n",
        "\n",
        "for i in range(6) :\n",
        " print(\"주사위가 \", i+1, \"인 경우는 \", counters[i], \"번\")"
      ],
      "metadata": {
        "id": "_4NTtVS--5-q",
        "outputId": "bcfa608f-18d3-4602-97f7-043846c2a4c2",
        "colab": {
          "base_uri": "https://localhost:8080/"
        }
      },
      "execution_count": 6,
      "outputs": [
        {
          "output_type": "stream",
          "name": "stdout",
          "text": [
            "주사위가  1 인 경우는  172 번\n",
            "주사위가  2 인 경우는  180 번\n",
            "주사위가  3 인 경우는  170 번\n",
            "주사위가  4 인 경우는  153 번\n",
            "주사위가  5 인 경우는  171 번\n",
            "주사위가  6 인 경우는  154 번\n"
          ]
        }
      ]
    },
    {
      "cell_type": "code",
      "source": [
        "import turtle\n",
        "import random\n",
        "t = turtle.Turtle()\n",
        "t.shape(\"turtle\")\n",
        "def draw_square(x, y, c):\n",
        " t.up()\n",
        " t.goto(x, y)\n",
        " t.down()\n",
        " t.color(\"black\",c)\n",
        " t.begin_fill()\n",
        " t.forward(100)\n",
        " t.left(90)\n",
        " t.forward(100)\n",
        " t.left(90)\n",
        " t.forward(100)\n",
        " t.left(90)\n",
        " t.forward(100)\n",
        " t.left(90)\n",
        " t.end_fill()\n",
        "for c in [\"yellow\", \"red\", \"purple\", \"blue\"]:\n",
        " x = random.randint(-100, 100)\n",
        " y = random.randint(-100, 100)\n",
        " draw_square(x, y, c)"
      ],
      "metadata": {
        "id": "qauULNJ4-6C0"
      },
      "execution_count": null,
      "outputs": []
    },
    {
      "cell_type": "code",
      "source": [
        "contacts = { }\n",
        "\n",
        "while True:\n",
        "       name = input(\"(입력모드)이름을 입력하시오: \")\n",
        "       if not name:\n",
        "              break;\n",
        "       tel = input(\"전화번호를 입력하시오: \")\n",
        "       contacts[name] = tel\n",
        "\n",
        "while True:\n",
        "       name = input(\"(검색모드)이름을 입력하시오: \")\n",
        "       if not name:\n",
        "              break;\n",
        "       if name in contacts :\n",
        "               print(name, \"의 전화번호는\", contacts[name], \"입니다.\")\n",
        "       else:      "
      ],
      "metadata": {
        "id": "FcoyhkjSCAYF"
      },
      "execution_count": null,
      "outputs": []
    },
    {
      "cell_type": "code",
      "source": [
        "import turtle\n",
        "import random\n",
        "t = turtle.Turtle()\n",
        "s = turtle.Screen()\n",
        "def draw_shape(t, c, length, sides, x, y):\n",
        " t.up()\n",
        " t.goto(x, y)\n",
        " t.down()\n",
        " t.fillcolor(c)\n",
        " angle = 360.0 / sides\n",
        " t.begin_fill()\n",
        " for dist in range(sides):\n",
        " t.forward(length)\n",
        " t.left(angle)\n",
        " t.end_fill()\n",
        "for i in range(10):\n",
        " color = random.choice([ 'white', 'yellow', 'blue', 'skyblue', 'orange', 'green' ])\n",
        " side_length = random.randint(10, 100)\n",
        " sides = random.randint(3, 10)\n",
        " x = random.randint(-200, 200)\n",
        " y = random.randint(-200, 200)\n",
        " draw_shape(t, color, side_length, sides, x, y)"
      ],
      "metadata": {
        "id": "ih9yJcIOAmKj"
      },
      "execution_count": null,
      "outputs": []
    },
    {
      "cell_type": "code",
      "source": [
        "import turtle\n",
        "import random\n",
        "t = turtle.Turtle()\n",
        "s = turtle.Screen()\n",
        "s.bgcolor(\"black\")\n",
        "def draw_star(aturtle, colour, side_length, x, y):\n",
        " aturtle.color(colour)\n",
        " aturtle.begin_fill()\n",
        " aturtle.penup()\n",
        " aturtle.goto(x, y)\n",
        " aturtle.pendown()\n",
        " for i in range(5):\n",
        " aturtle.forward(side_length)\n",
        " aturtle.right(144)\n",
        " aturtle.forward(side_length)\n",
        " aturtle.end_fill()\n",
        "for i in range(20):\n",
        " color = random.choice([ 'white', 'yellow', 'blue', 'skyblue', 'orange', 'green' ])\n",
        " side_length = random.randint(10, 100)\n",
        " x = random.randint(-200, 200)\n",
        " y = random.randint(-200, 200)\n",
        " draw_star(t, color, side_length, x, y)"
      ],
      "metadata": {
        "id": "-ZIKu7xXAxlC"
      },
      "execution_count": null,
      "outputs": []
    },
    {
      "cell_type": "code",
      "source": [
        "domains = { \"kr\": \"대한민국\", \"us\": \"미국\",\"jp\": \"일본\", \"de\": \"독일\", \"sk\": \"슬로바키아\n",
        "\", \"hu\": \"헝가리\", \"no\": \"노르웨이\" }\n",
        "for k, v in domains.items():\n",
        " print (k, \": \", v)"
      ],
      "metadata": {
        "id": "CnUDb4Q5Dfar"
      },
      "execution_count": null,
      "outputs": []
    },
    {
      "cell_type": "code",
      "source": [
        "problems = {'파이썬': '최근에 가장 떠오르는 프로그래밍 언어',\n",
        " '변수': '데이터를 저장하는 메모리 공간',\n",
        " '함수': '작업을 수행하는 문장들의 집합에 이름을 붙인것',\n",
        " '리스트': '서로 관련이 없는 항목들의 모임',\n",
        "- 7 -\n",
        " }\n",
        "def show_words(problems):\n",
        " display_message = \"\"\n",
        " i=1\n",
        " for word in problems.keys():\n",
        " display_message += \"(\"+str(i)+\")\"\n",
        " display_message += word + \" \"\n",
        " i+=1\n",
        " print( display_message)\n",
        "for meaning in problems.values():\n",
        " print(\"다음은 어떤 단어에 대한 설명일까요? \")\n",
        " print(\"\\\"\"+meaning+\"\\\"\")\n",
        " correct = False\n",
        " while not correct:\n",
        " show_words(problems)\n",
        " guessed_word = input(\"\")\n",
        " if problems[guessed_word] == meaning:\n",
        " print(\"정답입니다. !\")\n",
        " correct = True\n",
        " else:\n",
        " print(\"정답이 아닙니다.\")"
      ],
      "metadata": {
        "id": "VN4DHTI8Dh9a"
      },
      "execution_count": null,
      "outputs": []
    }
  ],
  "metadata": {
    "colab": {
      "name": "Colaboratory에 오신 것을 환영합니다",
      "toc_visible": true,
      "provenance": [],
      "include_colab_link": true
    },
    "kernelspec": {
      "display_name": "Python 3",
      "name": "python3"
    }
  },
  "nbformat": 4,
  "nbformat_minor": 0
}